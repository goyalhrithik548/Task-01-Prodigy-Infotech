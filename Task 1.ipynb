{
 "cells": [
  {
   "cell_type": "markdown",
   "id": "ce718fc9",
   "metadata": {},
   "source": [
    "### In this project I have visualized the distribution of a categorical, as the distribution of genders in a population as per 2022 world population. I have used bar chart and histogram for visualization.\n",
    "\n",
    "Sample Dataset :- https://data.worldbank.org/indicator/SP.POP.TOTL"
   ]
  },
  {
   "cell_type": "code",
   "execution_count": 147,
   "id": "858f6412",
   "metadata": {},
   "outputs": [],
   "source": [
    "import pandas as pd      \n",
    "import matplotlib.pyplot as plt"
   ]
  },
  {
   "cell_type": "code",
   "execution_count": 148,
   "id": "3cb17653",
   "metadata": {},
   "outputs": [],
   "source": [
    "population_df = pd.read_excel('P_Data_Extract_From_World_Development_Indicators.xlsx')"
   ]
  },
  {
   "cell_type": "code",
   "execution_count": 149,
   "id": "d78b2350",
   "metadata": {},
   "outputs": [],
   "source": [
    "# Removing the non-usable columns for my dataset\n",
    "population_df.drop(['Series Name','Series Code'],axis=1,inplace=True)  "
   ]
  },
  {
   "cell_type": "code",
   "execution_count": 152,
   "id": "ad7244b8",
   "metadata": {},
   "outputs": [
    {
     "data": {
      "text/html": [
       "<div>\n",
       "<style scoped>\n",
       "    .dataframe tbody tr th:only-of-type {\n",
       "        vertical-align: middle;\n",
       "    }\n",
       "\n",
       "    .dataframe tbody tr th {\n",
       "        vertical-align: top;\n",
       "    }\n",
       "\n",
       "    .dataframe thead th {\n",
       "        text-align: right;\n",
       "    }\n",
       "</style>\n",
       "<table border=\"1\" class=\"dataframe\">\n",
       "  <thead>\n",
       "    <tr style=\"text-align: right;\">\n",
       "      <th></th>\n",
       "      <th>Country Name</th>\n",
       "      <th>Country Code</th>\n",
       "      <th>Male [YR2022]</th>\n",
       "      <th>Female [YR2022]</th>\n",
       "    </tr>\n",
       "  </thead>\n",
       "  <tbody>\n",
       "    <tr>\n",
       "      <th>0</th>\n",
       "      <td>Afghanistan</td>\n",
       "      <td>AFG</td>\n",
       "      <td>20766442.0</td>\n",
       "      <td>20362329.0</td>\n",
       "    </tr>\n",
       "    <tr>\n",
       "      <th>1</th>\n",
       "      <td>Albania</td>\n",
       "      <td>ALB</td>\n",
       "      <td>1385573.0</td>\n",
       "      <td>1392115.0</td>\n",
       "    </tr>\n",
       "    <tr>\n",
       "      <th>2</th>\n",
       "      <td>Algeria</td>\n",
       "      <td>DZA</td>\n",
       "      <td>22862237.0</td>\n",
       "      <td>22040987.0</td>\n",
       "    </tr>\n",
       "    <tr>\n",
       "      <th>3</th>\n",
       "      <td>American Samoa</td>\n",
       "      <td>ASM</td>\n",
       "      <td>21873.0</td>\n",
       "      <td>22399.0</td>\n",
       "    </tr>\n",
       "    <tr>\n",
       "      <th>4</th>\n",
       "      <td>Andorra</td>\n",
       "      <td>AND</td>\n",
       "      <td>40786.0</td>\n",
       "      <td>39038.0</td>\n",
       "    </tr>\n",
       "    <tr>\n",
       "      <th>5</th>\n",
       "      <td>Angola</td>\n",
       "      <td>AGO</td>\n",
       "      <td>17590767.0</td>\n",
       "      <td>17998220.0</td>\n",
       "    </tr>\n",
       "    <tr>\n",
       "      <th>6</th>\n",
       "      <td>Antigua and Barbuda</td>\n",
       "      <td>ATG</td>\n",
       "      <td>44782.0</td>\n",
       "      <td>48981.0</td>\n",
       "    </tr>\n",
       "    <tr>\n",
       "      <th>7</th>\n",
       "      <td>Argentina</td>\n",
       "      <td>ARG</td>\n",
       "      <td>22889298.0</td>\n",
       "      <td>23345532.0</td>\n",
       "    </tr>\n",
       "    <tr>\n",
       "      <th>8</th>\n",
       "      <td>Armenia</td>\n",
       "      <td>ARM</td>\n",
       "      <td>1250079.0</td>\n",
       "      <td>1530390.0</td>\n",
       "    </tr>\n",
       "    <tr>\n",
       "      <th>9</th>\n",
       "      <td>Aruba</td>\n",
       "      <td>ABW</td>\n",
       "      <td>50173.0</td>\n",
       "      <td>56272.0</td>\n",
       "    </tr>\n",
       "  </tbody>\n",
       "</table>\n",
       "</div>"
      ],
      "text/plain": [
       "          Country Name Country Code  Male [YR2022]  Female [YR2022]\n",
       "0          Afghanistan          AFG     20766442.0       20362329.0\n",
       "1              Albania          ALB      1385573.0        1392115.0\n",
       "2              Algeria          DZA     22862237.0       22040987.0\n",
       "3       American Samoa          ASM        21873.0          22399.0\n",
       "4              Andorra          AND        40786.0          39038.0\n",
       "5               Angola          AGO     17590767.0       17998220.0\n",
       "6  Antigua and Barbuda          ATG        44782.0          48981.0\n",
       "7            Argentina          ARG     22889298.0       23345532.0\n",
       "8              Armenia          ARM      1250079.0        1530390.0\n",
       "9                Aruba          ABW        50173.0          56272.0"
      ]
     },
     "execution_count": 152,
     "metadata": {},
     "output_type": "execute_result"
    }
   ],
   "source": [
    "# To get the top 10 rows\n",
    "population_df.head(10) "
   ]
  },
  {
   "cell_type": "code",
   "execution_count": 153,
   "id": "4fc99cd8",
   "metadata": {},
   "outputs": [
    {
     "data": {
      "text/html": [
       "<div>\n",
       "<style scoped>\n",
       "    .dataframe tbody tr th:only-of-type {\n",
       "        vertical-align: middle;\n",
       "    }\n",
       "\n",
       "    .dataframe tbody tr th {\n",
       "        vertical-align: top;\n",
       "    }\n",
       "\n",
       "    .dataframe thead th {\n",
       "        text-align: right;\n",
       "    }\n",
       "</style>\n",
       "<table border=\"1\" class=\"dataframe\">\n",
       "  <thead>\n",
       "    <tr style=\"text-align: right;\">\n",
       "      <th></th>\n",
       "      <th>Country Name</th>\n",
       "      <th>Country Code</th>\n",
       "      <th>Male [YR2022]</th>\n",
       "      <th>Female [YR2022]</th>\n",
       "    </tr>\n",
       "  </thead>\n",
       "  <tbody>\n",
       "    <tr>\n",
       "      <th>213</th>\n",
       "      <td>West Bank and Gaza</td>\n",
       "      <td>PSE</td>\n",
       "      <td>2.516444e+06</td>\n",
       "      <td>2.527169e+06</td>\n",
       "    </tr>\n",
       "    <tr>\n",
       "      <th>214</th>\n",
       "      <td>Yemen, Rep.</td>\n",
       "      <td>YEM</td>\n",
       "      <td>1.702320e+07</td>\n",
       "      <td>1.667341e+07</td>\n",
       "    </tr>\n",
       "    <tr>\n",
       "      <th>215</th>\n",
       "      <td>Zambia</td>\n",
       "      <td>ZMB</td>\n",
       "      <td>9.877642e+06</td>\n",
       "      <td>1.014003e+07</td>\n",
       "    </tr>\n",
       "    <tr>\n",
       "      <th>216</th>\n",
       "      <td>Zimbabwe</td>\n",
       "      <td>ZWE</td>\n",
       "      <td>7.705601e+06</td>\n",
       "      <td>8.614935e+06</td>\n",
       "    </tr>\n",
       "    <tr>\n",
       "      <th>217</th>\n",
       "      <td>World</td>\n",
       "      <td>WLD</td>\n",
       "      <td>3.996521e+09</td>\n",
       "      <td>3.954426e+09</td>\n",
       "    </tr>\n",
       "    <tr>\n",
       "      <th>218</th>\n",
       "      <td>NaN</td>\n",
       "      <td>NaN</td>\n",
       "      <td>NaN</td>\n",
       "      <td>NaN</td>\n",
       "    </tr>\n",
       "    <tr>\n",
       "      <th>219</th>\n",
       "      <td>NaN</td>\n",
       "      <td>NaN</td>\n",
       "      <td>NaN</td>\n",
       "      <td>NaN</td>\n",
       "    </tr>\n",
       "    <tr>\n",
       "      <th>220</th>\n",
       "      <td>NaN</td>\n",
       "      <td>NaN</td>\n",
       "      <td>NaN</td>\n",
       "      <td>NaN</td>\n",
       "    </tr>\n",
       "    <tr>\n",
       "      <th>221</th>\n",
       "      <td>NaN</td>\n",
       "      <td>NaN</td>\n",
       "      <td>NaN</td>\n",
       "      <td>NaN</td>\n",
       "    </tr>\n",
       "    <tr>\n",
       "      <th>222</th>\n",
       "      <td>NaN</td>\n",
       "      <td>NaN</td>\n",
       "      <td>NaN</td>\n",
       "      <td>NaN</td>\n",
       "    </tr>\n",
       "  </tbody>\n",
       "</table>\n",
       "</div>"
      ],
      "text/plain": [
       "           Country Name Country Code  Male [YR2022]  Female [YR2022]\n",
       "213  West Bank and Gaza          PSE   2.516444e+06     2.527169e+06\n",
       "214         Yemen, Rep.          YEM   1.702320e+07     1.667341e+07\n",
       "215              Zambia          ZMB   9.877642e+06     1.014003e+07\n",
       "216            Zimbabwe          ZWE   7.705601e+06     8.614935e+06\n",
       "217               World          WLD   3.996521e+09     3.954426e+09\n",
       "218                 NaN          NaN            NaN              NaN\n",
       "219                 NaN          NaN            NaN              NaN\n",
       "220                 NaN          NaN            NaN              NaN\n",
       "221                 NaN          NaN            NaN              NaN\n",
       "222                 NaN          NaN            NaN              NaN"
      ]
     },
     "execution_count": 153,
     "metadata": {},
     "output_type": "execute_result"
    }
   ],
   "source": [
    "# To get the last 10 rows\n",
    "population_df.tail(10)"
   ]
  },
  {
   "cell_type": "code",
   "execution_count": 133,
   "id": "3c7094c7",
   "metadata": {},
   "outputs": [
    {
     "name": "stdout",
     "output_type": "stream",
     "text": [
      "<class 'pandas.core.frame.DataFrame'>\n",
      "RangeIndex: 223 entries, 0 to 222\n",
      "Data columns (total 4 columns):\n",
      " #   Column           Non-Null Count  Dtype  \n",
      "---  ------           --------------  -----  \n",
      " 0   Country Name     218 non-null    object \n",
      " 1   Country Code     218 non-null    object \n",
      " 2   Male [YR2022]    218 non-null    float64\n",
      " 3   Female [YR2022]  218 non-null    float64\n",
      "dtypes: float64(2), object(2)\n",
      "memory usage: 7.1+ KB\n"
     ]
    }
   ],
   "source": [
    "# To check the null values and data type of my data\n",
    "population_df.info()   "
   ]
  },
  {
   "cell_type": "code",
   "execution_count": 134,
   "id": "7fc07d44",
   "metadata": {},
   "outputs": [
    {
     "data": {
      "text/plain": [
       "Index(['Country Name', 'Country Code', 'Male [YR2022]', 'Female [YR2022]'], dtype='object')"
      ]
     },
     "execution_count": 134,
     "metadata": {},
     "output_type": "execute_result"
    }
   ],
   "source": [
    "population_df.columns"
   ]
  },
  {
   "cell_type": "code",
   "execution_count": 144,
   "id": "fd21338c",
   "metadata": {},
   "outputs": [
    {
     "data": {
      "text/plain": [
       "array(['Afghanistan', 'Albania', 'Algeria', 'American Samoa', 'Andorra',\n",
       "       'Angola', 'Antigua and Barbuda', 'Argentina', 'Armenia', 'Aruba',\n",
       "       'Australia', 'Austria', 'Azerbaijan', 'Bahamas, The', 'Bahrain',\n",
       "       'Bangladesh', 'Barbados', 'Belarus', 'Belgium', 'Belize', 'Benin',\n",
       "       'Bermuda', 'Bhutan', 'Bolivia', 'Bosnia and Herzegovina',\n",
       "       'Botswana', 'Brazil', 'British Virgin Islands',\n",
       "       'Brunei Darussalam', 'Bulgaria', 'Burkina Faso', 'Burundi',\n",
       "       'Cabo Verde', 'Cambodia', 'Cameroon', 'Canada', 'Cayman Islands',\n",
       "       'Central African Republic', 'Chad', 'Channel Islands', 'Chile',\n",
       "       'China', 'Colombia', 'Comoros', 'Congo, Dem. Rep.', 'Congo, Rep.',\n",
       "       'Costa Rica', \"Cote d'Ivoire\", 'Croatia', 'Cuba', 'Curacao',\n",
       "       'Cyprus', 'Czechia', 'Denmark', 'Djibouti', 'Dominica',\n",
       "       'Dominican Republic', 'Ecuador', 'Egypt, Arab Rep.', 'El Salvador',\n",
       "       'Equatorial Guinea', 'Eritrea', 'Estonia', 'Eswatini', 'Ethiopia',\n",
       "       'Faroe Islands', 'Fiji', 'Finland', 'France', 'French Polynesia',\n",
       "       'Gabon', 'Gambia, The', 'Georgia', 'Germany', 'Ghana', 'Gibraltar',\n",
       "       'Greece', 'Greenland', 'Grenada', 'Guam', 'Guatemala', 'Guinea',\n",
       "       'Guinea-Bissau', 'Guyana', 'Haiti', 'Honduras',\n",
       "       'Hong Kong SAR, China', 'Hungary', 'Iceland', 'India', 'Indonesia',\n",
       "       'Iran, Islamic Rep.', 'Iraq', 'Ireland', 'Isle of Man', 'Israel',\n",
       "       'Italy', 'Jamaica', 'Japan', 'Jordan', 'Kazakhstan', 'Kenya',\n",
       "       'Kiribati', \"Korea, Dem. People's Rep.\", 'Korea, Rep.', 'Kosovo',\n",
       "       'Kuwait', 'Kyrgyz Republic', 'Lao PDR', 'Latvia', 'Lebanon',\n",
       "       'Lesotho', 'Liberia', 'Libya', 'Liechtenstein', 'Lithuania',\n",
       "       'Luxembourg', 'Macao SAR, China', 'Madagascar', 'Malawi',\n",
       "       'Malaysia', 'Maldives', 'Mali', 'Malta', 'Marshall Islands',\n",
       "       'Mauritania', 'Mauritius', 'Mexico', 'Micronesia, Fed. Sts.',\n",
       "       'Moldova', 'Monaco', 'Mongolia', 'Montenegro', 'Morocco',\n",
       "       'Mozambique', 'Myanmar', 'Namibia', 'Nauru', 'Nepal',\n",
       "       'Netherlands', 'New Caledonia', 'New Zealand', 'Nicaragua',\n",
       "       'Niger', 'Nigeria', 'North Macedonia', 'Northern Mariana Islands',\n",
       "       'Norway', 'Oman', 'Pakistan', 'Palau', 'Panama',\n",
       "       'Papua New Guinea', 'Paraguay', 'Peru', 'Philippines', 'Poland',\n",
       "       'Portugal', 'Puerto Rico', 'Qatar', 'Romania',\n",
       "       'Russian Federation', 'Rwanda', 'Samoa', 'San Marino',\n",
       "       'Sao Tome and Principe', 'Saudi Arabia', 'Senegal', 'Serbia',\n",
       "       'Seychelles', 'Sierra Leone', 'Singapore',\n",
       "       'Sint Maarten (Dutch part)', 'Slovak Republic', 'Slovenia',\n",
       "       'Solomon Islands', 'Somalia', 'South Africa', 'South Sudan',\n",
       "       'Spain', 'Sri Lanka', 'St. Kitts and Nevis', 'St. Lucia',\n",
       "       'St. Martin (French part)', 'St. Vincent and the Grenadines',\n",
       "       'Sudan', 'Suriname', 'Sweden', 'Switzerland',\n",
       "       'Syrian Arab Republic', 'Tajikistan', 'Tanzania', 'Thailand',\n",
       "       'Timor-Leste', 'Togo', 'Tonga', 'Trinidad and Tobago', 'Tunisia',\n",
       "       'Turkiye', 'Turkmenistan', 'Turks and Caicos Islands', 'Tuvalu',\n",
       "       'Uganda', 'Ukraine', 'United Arab Emirates', 'United Kingdom',\n",
       "       'United States', 'Uruguay', 'Uzbekistan', 'Vanuatu',\n",
       "       'Venezuela, RB', 'Viet Nam', 'Virgin Islands (U.S.)',\n",
       "       'West Bank and Gaza', 'Yemen, Rep.', 'Zambia', 'Zimbabwe', 'World'],\n",
       "      dtype=object)"
      ]
     },
     "execution_count": 144,
     "metadata": {},
     "output_type": "execute_result"
    }
   ],
   "source": [
    "population_df['Country Name'].unique()   \n",
    "# In my data there is row named 'World' which highlights the total male & female population of the world as per 2022"
   ]
  },
  {
   "cell_type": "code",
   "execution_count": 136,
   "id": "8e599da2",
   "metadata": {},
   "outputs": [
    {
     "data": {
      "text/plain": [
       "Country Name       True\n",
       "Country Code       True\n",
       "Male [YR2022]      True\n",
       "Female [YR2022]    True\n",
       "dtype: bool"
      ]
     },
     "execution_count": 136,
     "metadata": {},
     "output_type": "execute_result"
    }
   ],
   "source": [
    "# To check which all columns have null value\n",
    "population_df.isna().any()     "
   ]
  },
  {
   "cell_type": "code",
   "execution_count": 137,
   "id": "8c536f9a",
   "metadata": {},
   "outputs": [
    {
     "data": {
      "text/plain": [
       "Country Name       5\n",
       "Country Code       5\n",
       "Male [YR2022]      5\n",
       "Female [YR2022]    5\n",
       "dtype: int64"
      ]
     },
     "execution_count": 137,
     "metadata": {},
     "output_type": "execute_result"
    }
   ],
   "source": [
    "population_df.isna().sum()   \n",
    "# As I can see that there are same null values in all the columns"
   ]
  },
  {
   "cell_type": "code",
   "execution_count": 138,
   "id": "f707511d",
   "metadata": {},
   "outputs": [],
   "source": [
    "# I have dropped all the null values to make my dataset uniform\n",
    "population_df.dropna(inplace=True)  "
   ]
  },
  {
   "cell_type": "code",
   "execution_count": 154,
   "id": "7e95e4f4",
   "metadata": {},
   "outputs": [],
   "source": [
    "# Converting all the integer value to numeric for further calculations\n",
    "population_df['Male [YR2022]'] = pd.to_numeric(population_df['Male [YR2022]'])   \n",
    "population_df['Female [YR2022]'] = pd.to_numeric(population_df['Female [YR2022]'])"
   ]
  },
  {
   "cell_type": "code",
   "execution_count": 140,
   "id": "9781fba5",
   "metadata": {},
   "outputs": [],
   "source": [
    "# Making a new column called 'Total' for further data visualization \n",
    "population_df['Total'] = population_df['Male [YR2022]']+population_df['Female [YR2022]']"
   ]
  },
  {
   "cell_type": "code",
   "execution_count": 141,
   "id": "2e7d5c5e",
   "metadata": {},
   "outputs": [
    {
     "data": {
      "text/html": [
       "<div>\n",
       "<style scoped>\n",
       "    .dataframe tbody tr th:only-of-type {\n",
       "        vertical-align: middle;\n",
       "    }\n",
       "\n",
       "    .dataframe tbody tr th {\n",
       "        vertical-align: top;\n",
       "    }\n",
       "\n",
       "    .dataframe thead th {\n",
       "        text-align: right;\n",
       "    }\n",
       "</style>\n",
       "<table border=\"1\" class=\"dataframe\">\n",
       "  <thead>\n",
       "    <tr style=\"text-align: right;\">\n",
       "      <th></th>\n",
       "      <th>Country Name</th>\n",
       "      <th>Country Code</th>\n",
       "      <th>Male [YR2022]</th>\n",
       "      <th>Female [YR2022]</th>\n",
       "      <th>Total</th>\n",
       "    </tr>\n",
       "  </thead>\n",
       "  <tbody>\n",
       "    <tr>\n",
       "      <th>0</th>\n",
       "      <td>Afghanistan</td>\n",
       "      <td>AFG</td>\n",
       "      <td>20766442.0</td>\n",
       "      <td>20362329.0</td>\n",
       "      <td>41128771.0</td>\n",
       "    </tr>\n",
       "    <tr>\n",
       "      <th>1</th>\n",
       "      <td>Albania</td>\n",
       "      <td>ALB</td>\n",
       "      <td>1385573.0</td>\n",
       "      <td>1392115.0</td>\n",
       "      <td>2777688.0</td>\n",
       "    </tr>\n",
       "    <tr>\n",
       "      <th>2</th>\n",
       "      <td>Algeria</td>\n",
       "      <td>DZA</td>\n",
       "      <td>22862237.0</td>\n",
       "      <td>22040987.0</td>\n",
       "      <td>44903224.0</td>\n",
       "    </tr>\n",
       "    <tr>\n",
       "      <th>3</th>\n",
       "      <td>American Samoa</td>\n",
       "      <td>ASM</td>\n",
       "      <td>21873.0</td>\n",
       "      <td>22399.0</td>\n",
       "      <td>44272.0</td>\n",
       "    </tr>\n",
       "    <tr>\n",
       "      <th>4</th>\n",
       "      <td>Andorra</td>\n",
       "      <td>AND</td>\n",
       "      <td>40786.0</td>\n",
       "      <td>39038.0</td>\n",
       "      <td>79824.0</td>\n",
       "    </tr>\n",
       "    <tr>\n",
       "      <th>5</th>\n",
       "      <td>Angola</td>\n",
       "      <td>AGO</td>\n",
       "      <td>17590767.0</td>\n",
       "      <td>17998220.0</td>\n",
       "      <td>35588987.0</td>\n",
       "    </tr>\n",
       "    <tr>\n",
       "      <th>6</th>\n",
       "      <td>Antigua and Barbuda</td>\n",
       "      <td>ATG</td>\n",
       "      <td>44782.0</td>\n",
       "      <td>48981.0</td>\n",
       "      <td>93763.0</td>\n",
       "    </tr>\n",
       "    <tr>\n",
       "      <th>7</th>\n",
       "      <td>Argentina</td>\n",
       "      <td>ARG</td>\n",
       "      <td>22889298.0</td>\n",
       "      <td>23345532.0</td>\n",
       "      <td>46234830.0</td>\n",
       "    </tr>\n",
       "    <tr>\n",
       "      <th>8</th>\n",
       "      <td>Armenia</td>\n",
       "      <td>ARM</td>\n",
       "      <td>1250079.0</td>\n",
       "      <td>1530390.0</td>\n",
       "      <td>2780469.0</td>\n",
       "    </tr>\n",
       "    <tr>\n",
       "      <th>9</th>\n",
       "      <td>Aruba</td>\n",
       "      <td>ABW</td>\n",
       "      <td>50173.0</td>\n",
       "      <td>56272.0</td>\n",
       "      <td>106445.0</td>\n",
       "    </tr>\n",
       "  </tbody>\n",
       "</table>\n",
       "</div>"
      ],
      "text/plain": [
       "          Country Name Country Code  Male [YR2022]  Female [YR2022]  \\\n",
       "0          Afghanistan          AFG     20766442.0       20362329.0   \n",
       "1              Albania          ALB      1385573.0        1392115.0   \n",
       "2              Algeria          DZA     22862237.0       22040987.0   \n",
       "3       American Samoa          ASM        21873.0          22399.0   \n",
       "4              Andorra          AND        40786.0          39038.0   \n",
       "5               Angola          AGO     17590767.0       17998220.0   \n",
       "6  Antigua and Barbuda          ATG        44782.0          48981.0   \n",
       "7            Argentina          ARG     22889298.0       23345532.0   \n",
       "8              Armenia          ARM      1250079.0        1530390.0   \n",
       "9                Aruba          ABW        50173.0          56272.0   \n",
       "\n",
       "        Total  \n",
       "0  41128771.0  \n",
       "1   2777688.0  \n",
       "2  44903224.0  \n",
       "3     44272.0  \n",
       "4     79824.0  \n",
       "5  35588987.0  \n",
       "6     93763.0  \n",
       "7  46234830.0  \n",
       "8   2780469.0  \n",
       "9    106445.0  "
      ]
     },
     "execution_count": 141,
     "metadata": {},
     "output_type": "execute_result"
    }
   ],
   "source": [
    "population_df.head(10)"
   ]
  },
  {
   "cell_type": "markdown",
   "id": "a3249eb6",
   "metadata": {},
   "source": [
    "# BAR GRAPH"
   ]
  },
  {
   "cell_type": "code",
   "execution_count": 143,
   "id": "2b9d1f20",
   "metadata": {},
   "outputs": [
    {
     "data": {
      "image/png": "[encoded data removed]",
      "text/plain": [
       "<Figure size 600x600 with 1 Axes>"
      ]
     },
     "metadata": {},
     "output_type": "display_data"
    }
   ],
   "source": [
    "# Plotting bar graph\n",
    "plt.figure(figsize=(6, 6))\n",
    "\n",
    "# Excluding 'World' from the plot since it aggregates all data\n",
    "df_plot = population_df[population_df['Country Name']==\"World\"]\n",
    "\n",
    "# Bar plot for male population\n",
    "plt.bar(df_plot['Country Name'], df_plot['Male [YR2022]'], label='Male Population')\n",
    "\n",
    "# Bar plot for female population\n",
    "plt.bar(df_plot['Country Name'], df_plot['Female [YR2022]'], bottom=df_plot['Male [YR2022]'], label='Female Population')\n",
    "\n",
    "plt.xlabel('Total Population')\n",
    "plt.ylabel('Total Population')\n",
    "plt.title('Male and Female Population in 2022')\n",
    "plt.legend()\n",
    "plt.tight_layout()"
   ]
  },
  {
   "cell_type": "markdown",
   "id": "31772070",
   "metadata": {},
   "source": [
    "# HISTOGRAM"
   ]
  },
  {
   "cell_type": "code",
   "execution_count": 77,
   "id": "6abc32d7",
   "metadata": {},
   "outputs": [],
   "source": [
    "# Filtering the most populated countries \n",
    "top_populated = population_df.sort_values(by='Total',ascending=False)\n",
    "top_populated.drop([217],axis=0,inplace=True)       # Excluding 'World' from the plot since it aggregates all data \n",
    "top_populated.head(10)"
   ]
  },
  {
   "cell_type": "markdown",
   "id": "e33617fd",
   "metadata": {},
   "source": [
    "## Showing the top 10 most populated countries"
   ]
  },
  {
   "cell_type": "code",
   "execution_count": 102,
   "id": "7065c0f1",
   "metadata": {},
   "outputs": [
    {
     "data": {
      "image/png": "[encoded data removed]",
      "text/plain": [
       "<Figure size 1300x800 with 1 Axes>"
      ]
     },
     "metadata": {},
     "output_type": "display_data"
    }
   ],
   "source": [
    "# Plotting the histogram\n",
    "plt.figure(figsize=(13,8))\n",
    "\n",
    "# Creating new data frame for top 10 country as per 2022\n",
    "df_plot = top_populated.head[0:10]\n",
    "\n",
    "# Bar width\n",
    "bar_width = 0.35\n",
    "\n",
    "# Positions for bars on x-axis\n",
    "r1 = np.arange(len(df_plot))\n",
    "r2 = [x + bar_width for x in r1]\n",
    "\n",
    "# Bar plot for male population\n",
    "plt.bar(r1, df_plot['Male [YR2022]'], width=bar_width, edgecolor='grey', label='Male Population')\n",
    "\n",
    "# Bar plot for female population\n",
    "plt.bar(r2, df_plot['Female [YR2022]'], width=bar_width, edgecolor='grey', label='Female Population')\n",
    "\n",
    "plt.xlabel('Country')\n",
    "plt.ylabel('Population')\n",
    "plt.title('Top 10 Male & Female Population by Country')\n",
    "plt.xticks([r + bar_width/2 for r in range(len(df_plot))], df_plot['Country Name'])\n",
    "plt.legend()\n",
    "plt.tight_layout()"
   ]
  },
  {
   "cell_type": "code",
   "execution_count": 103,
   "id": "086177b3",
   "metadata": {},
   "outputs": [
    {
     "data": {
      "text/html": [
       "<div>\n",
       "<style scoped>\n",
       "    .dataframe tbody tr th:only-of-type {\n",
       "        vertical-align: middle;\n",
       "    }\n",
       "\n",
       "    .dataframe tbody tr th {\n",
       "        vertical-align: top;\n",
       "    }\n",
       "\n",
       "    .dataframe thead th {\n",
       "        text-align: right;\n",
       "    }\n",
       "</style>\n",
       "<table border=\"1\" class=\"dataframe\">\n",
       "  <thead>\n",
       "    <tr style=\"text-align: right;\">\n",
       "      <th></th>\n",
       "      <th>Country Name</th>\n",
       "      <th>Country Code</th>\n",
       "      <th>Male [YR2022]</th>\n",
       "      <th>Female [YR2022]</th>\n",
       "      <th>Total</th>\n",
       "    </tr>\n",
       "  </thead>\n",
       "  <tbody>\n",
       "    <tr>\n",
       "      <th>201</th>\n",
       "      <td>Tuvalu</td>\n",
       "      <td>TUV</td>\n",
       "      <td>5799.0</td>\n",
       "      <td>5513.0</td>\n",
       "      <td>11312.0</td>\n",
       "    </tr>\n",
       "    <tr>\n",
       "      <th>137</th>\n",
       "      <td>Nauru</td>\n",
       "      <td>NRU</td>\n",
       "      <td>6435.0</td>\n",
       "      <td>6233.0</td>\n",
       "      <td>12668.0</td>\n",
       "    </tr>\n",
       "    <tr>\n",
       "      <th>150</th>\n",
       "      <td>Palau</td>\n",
       "      <td>PLW</td>\n",
       "      <td>9376.0</td>\n",
       "      <td>8679.0</td>\n",
       "      <td>18055.0</td>\n",
       "    </tr>\n",
       "    <tr>\n",
       "      <th>27</th>\n",
       "      <td>British Virgin Islands</td>\n",
       "      <td>VGB</td>\n",
       "      <td>15062.0</td>\n",
       "      <td>16242.0</td>\n",
       "      <td>31304.0</td>\n",
       "    </tr>\n",
       "    <tr>\n",
       "      <th>183</th>\n",
       "      <td>St. Martin (French part)</td>\n",
       "      <td>MAF</td>\n",
       "      <td>15111.0</td>\n",
       "      <td>16680.0</td>\n",
       "      <td>31791.0</td>\n",
       "    </tr>\n",
       "    <tr>\n",
       "      <th>75</th>\n",
       "      <td>Gibraltar</td>\n",
       "      <td>GIB</td>\n",
       "      <td>16308.0</td>\n",
       "      <td>16341.0</td>\n",
       "      <td>32649.0</td>\n",
       "    </tr>\n",
       "    <tr>\n",
       "      <th>164</th>\n",
       "      <td>San Marino</td>\n",
       "      <td>SMR</td>\n",
       "      <td>16380.0</td>\n",
       "      <td>17281.0</td>\n",
       "      <td>33661.0</td>\n",
       "    </tr>\n",
       "    <tr>\n",
       "      <th>130</th>\n",
       "      <td>Monaco</td>\n",
       "      <td>MCO</td>\n",
       "      <td>17872.0</td>\n",
       "      <td>18596.0</td>\n",
       "      <td>36468.0</td>\n",
       "    </tr>\n",
       "    <tr>\n",
       "      <th>114</th>\n",
       "      <td>Liechtenstein</td>\n",
       "      <td>LIE</td>\n",
       "      <td>19502.0</td>\n",
       "      <td>19825.0</td>\n",
       "      <td>39327.0</td>\n",
       "    </tr>\n",
       "    <tr>\n",
       "      <th>124</th>\n",
       "      <td>Marshall Islands</td>\n",
       "      <td>MHL</td>\n",
       "      <td>21223.0</td>\n",
       "      <td>20346.0</td>\n",
       "      <td>41569.0</td>\n",
       "    </tr>\n",
       "  </tbody>\n",
       "</table>\n",
       "</div>"
      ],
      "text/plain": [
       "                 Country Name Country Code  Male [YR2022]  Female [YR2022]  \\\n",
       "201                    Tuvalu          TUV         5799.0           5513.0   \n",
       "137                     Nauru          NRU         6435.0           6233.0   \n",
       "150                     Palau          PLW         9376.0           8679.0   \n",
       "27     British Virgin Islands          VGB        15062.0          16242.0   \n",
       "183  St. Martin (French part)          MAF        15111.0          16680.0   \n",
       "75                  Gibraltar          GIB        16308.0          16341.0   \n",
       "164                San Marino          SMR        16380.0          17281.0   \n",
       "130                    Monaco          MCO        17872.0          18596.0   \n",
       "114             Liechtenstein          LIE        19502.0          19825.0   \n",
       "124          Marshall Islands          MHL        21223.0          20346.0   \n",
       "\n",
       "       Total  \n",
       "201  11312.0  \n",
       "137  12668.0  \n",
       "150  18055.0  \n",
       "27   31304.0  \n",
       "183  31791.0  \n",
       "75   32649.0  \n",
       "164  33661.0  \n",
       "130  36468.0  \n",
       "114  39327.0  \n",
       "124  41569.0  "
      ]
     },
     "execution_count": 103,
     "metadata": {},
     "output_type": "execute_result"
    }
   ],
   "source": [
    "# Filtering the least populated countries \n",
    "least_populated = population_df.sort_values(by='Total')\n",
    "least_populated.head(10)"
   ]
  },
  {
   "cell_type": "markdown",
   "id": "fa3f8f69",
   "metadata": {},
   "source": [
    "## Showing the least 10 populated countries"
   ]
  },
  {
   "cell_type": "code",
   "execution_count": 117,
   "id": "f17686af",
   "metadata": {},
   "outputs": [
    {
     "data": {
      "image/png": "[encoded data removed]",
      "text/plain": [
       "<Figure size 1800x1400 with 1 Axes>"
      ]
     },
     "metadata": {},
     "output_type": "display_data"
    }
   ],
   "source": [
    "# Plotting the histogram\n",
    "plt.figure(figsize=(18,14))\n",
    "\n",
    "# Creating new data frame for least 10 country as per 2022\n",
    "df_plot = least_populated[0:10]\n",
    "\n",
    "# Bar width\n",
    "bar_width = 0.35\n",
    "\n",
    "# Positions for bars on x-axis\n",
    "r1 = np.arange(len(df_plot))\n",
    "r2 = [x + bar_width for x in r1]\n",
    "\n",
    "# Bar plot for male population\n",
    "plt.bar(r1,df_plot['Male [YR2022]'],width=bar_width,edgecolor='grey',label='Male Population')\n",
    "\n",
    "# Bar plot for female population\n",
    "plt.bar(r2,df_plot['Female [YR2022]'],width=bar_width,edgecolor='grey',label='Female Population')\n",
    "\n",
    "plt.xlabel('Country')\n",
    "plt.ylabel('Population')\n",
    "plt.title('Top 10 Male & Female Population by Country')\n",
    "plt.xticks([r + bar_width/2 for r in range(len(df_plot))], df_plot['Country Name'])\n",
    "plt.legend()\n",
    "plt.tight_layout()"
   ]
  }
 ],
 "metadata": {
  "kernelspec": {
   "display_name": "Python 3 (ipykernel)",
   "language": "python",
   "name": "python3"
  },
  "language_info": {
   "codemirror_mode": {
    "name": "ipython",
    "version": 3
   },
   "file_extension": ".py",
   "mimetype": "text/x-python",
   "name": "python",
   "nbconvert_exporter": "python",
   "pygments_lexer": "ipython3",
   "version": "3.11.5"
  }
 },
 "nbformat": 4,
 "nbformat_minor": 5
}
